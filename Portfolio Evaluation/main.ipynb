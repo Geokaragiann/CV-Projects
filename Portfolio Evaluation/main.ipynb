{
 "cells": [
  {
   "cell_type": "code",
   "execution_count": 23,
   "metadata": {},
   "outputs": [],
   "source": [
    "# Cell 1: Imports and Constants\n",
    "import yfinance as yf\n",
    "import pandas as pd\n",
    "import numpy as np\n",
    "import matplotlib.pyplot as plt\n",
    "import datetime as dt\n",
    "\n",
    "# Constants\n",
    "ANALYSIS_PERIOD_YEARS = 20\n",
    "ROLLING_WINDOW_DAYS = 365\n",
    "CONFIDENCE_LEVEL = 0.95\n",
    "RISK_FREE_RATE = 0.0439\n"
   ]
  },
  {
   "cell_type": "code",
   "execution_count": 24,
   "metadata": {},
   "outputs": [
    {
     "name": "stderr",
     "output_type": "stream",
     "text": [
      "[*********************100%%**********************]  5 of 5 completed\n"
     ]
    }
   ],
   "source": [
    "# Cell 2: Data Download\n",
    "end_date = dt.datetime.now()\n",
    "start_date = end_date - dt.timedelta(days=365*ANALYSIS_PERIOD_YEARS)\n",
    "etfs = ['PG','AMZN','IBM','WMT', 'IDTL.L'] # Update with your tickers\n",
    "portfolio_weights = np.array([0.15,0.3,0.15,0.2,0.2])  # Update with your weights\n",
    "daily_prices = yf.download(etfs, start=start_date, end=end_date)['Adj Close']\n"
   ]
  },
  {
   "cell_type": "code",
   "execution_count": 25,
   "metadata": {},
   "outputs": [],
   "source": [
    "# Cell 3: Returns Calculation\n",
    "daily_returns = np.log(daily_prices / daily_prices.shift(1)).dropna()\n",
    "portfolio_returns = (daily_returns * portfolio_weights).sum(axis=1)\n"
   ]
  },
  {
   "cell_type": "code",
   "execution_count": 26,
   "metadata": {},
   "outputs": [],
   "source": [
    "# Calculate rolling returns\n",
    "range_returns = portfolio_returns.rolling(window=ROLLING_WINDOW_DAYS).sum()\n",
    "range_returns = range_returns.dropna()\n",
    "\n",
    "# Calculate returns standard deviation\n",
    "returns_std = range_returns.std()\n",
    "\n",
    "# Calculate average daily return and annualize it\n",
    "avg_daily_return = portfolio_returns.mean()\n",
    "annualized_return_compound = np.exp(avg_daily_return * 365) - 1\n",
    "annualized_return_simple = avg_daily_return * 365\n",
    "\n",
    "# Sharpe ratio\n",
    "sharpe_ratio = (annualized_return_compound - RISK_FREE_RATE) / returns_std\n"
   ]
  },
  {
   "cell_type": "code",
   "execution_count": 27,
   "metadata": {},
   "outputs": [],
   "source": [
    "cumulative = (1 + portfolio_returns).cumprod()\n",
    "rolling_max = cumulative.expanding().max()\n",
    "drawdowns = cumulative / rolling_max - 1\n",
    "max_drawdown = drawdowns.min()"
   ]
  },
  {
   "cell_type": "code",
   "execution_count": 28,
   "metadata": {},
   "outputs": [],
   "source": [
    "# Cell 6: Diversification Score\n",
    "correlation_matrix = daily_returns.corr()\n",
    "\n",
    "# Calculate individual volatilities\n",
    "volatilities = np.sqrt(np.diag(correlation_matrix))\n",
    "\n",
    "# Weighted sum of individual volatilities\n",
    "weighted_sum_vol = np.sum(portfolio_weights * volatilities)\n",
    "\n",
    "# Calculate portfolio volatility\n",
    "portfolio_vol = np.sqrt(np.dot(portfolio_weights, np.dot(correlation_matrix, portfolio_weights)))\n",
    "\n",
    "# Calculate diversification ratio\n",
    "div_ratio = weighted_sum_vol / portfolio_vol if portfolio_vol != 0 else 0\n",
    "\n",
    "# Calculate as percentage of maximum possible diversification\n",
    "max_ratio = np.sqrt(len(portfolio_weights))\n",
    "div_percentage = (div_ratio / max_ratio) * 100\n"
   ]
  },
  {
   "cell_type": "code",
   "execution_count": 29,
   "metadata": {},
   "outputs": [],
   "source": [
    "VaR = -np.percentile(range_returns, 100 - (CONFIDENCE_LEVEL * 100))\n",
    "CVaR = -range_returns[range_returns <= -VaR].mean()"
   ]
  },
  {
   "cell_type": "code",
   "execution_count": 30,
   "metadata": {},
   "outputs": [
    {
     "name": "stdout",
     "output_type": "stream",
     "text": [
      "\n",
      "Portfolio Analysis Results:\n",
      "--------------------------------------------------\n",
      "Annualized Return (with compounding): 15.53%\n",
      "Annualized Return (without compounding): 14.44%\n",
      "Portfolio 365 days Standard Deviation: 0.1095\n",
      "Sharpe Ratio: 1.0170\n",
      "Maximum Drawdown: -20.83%\n",
      "\n",
      "Diversification Analysis:\n",
      "Diversification Score: 1.62\n",
      "Diversification Percentage: 72.50%\n",
      "✓ Excellent diversification! Assets have favorable correlations.\n",
      "\n",
      "Risk Metrics:\n",
      "VaR: There is a 5.0% chance that the portfolio loss\n",
      "     will exceed 6.58% in 365 days.\n",
      "CVaR: If the loss exceeds the VaR, the average loss is 8.85%\n",
      "      in 365 days.\n"
     ]
    }
   ],
   "source": [
    "print(\"\\nPortfolio Analysis Results:\")\n",
    "print(\"-\" * 50)\n",
    "print(f\"Annualized Return (with compounding): {annualized_return_compound:.2%}\")\n",
    "print(f\"Annualized Return (without compounding): {annualized_return_simple:.2%}\")\n",
    "print(f\"Portfolio {ROLLING_WINDOW_DAYS} days Standard Deviation: {returns_std:.4f}\")\n",
    "print(f\"Sharpe Ratio: {sharpe_ratio:.4f}\")\n",
    "print(f\"Maximum Drawdown: {max_drawdown:.2%}\")\n",
    "\n",
    "print(\"\\nDiversification Analysis:\")\n",
    "print(f\"Diversification Score: {div_ratio:.2f}\")\n",
    "print(f\"Diversification Percentage: {div_percentage:.2f}%\")\n",
    "\n",
    "if div_ratio > 1.5:\n",
    "    print(\"✓ Excellent diversification! Assets have favorable correlations.\")\n",
    "elif div_ratio > 1.2:\n",
    "    print(\"✓ Good diversification. Consider additional decorrelation for improvement.\")\n",
    "else:\n",
    "    print(\"! Low diversification. Your portfolio may be concentrated or highly correlated.\")\n",
    "\n",
    "print(\"\\nRisk Metrics:\")\n",
    "print(f\"VaR: There is a {(1-CONFIDENCE_LEVEL)*100:.1f}% chance that the portfolio loss\")\n",
    "print(f\"     will exceed {VaR*100:.2f}% in {ROLLING_WINDOW_DAYS} days.\")\n",
    "print(f\"CVaR: If the loss exceeds the VaR, the average loss is {CVaR*100:.2f}%\")\n",
    "print(f\"      in {ROLLING_WINDOW_DAYS} days.\")\n"
   ]
  },
  {
   "cell_type": "code",
   "execution_count": 31,
   "metadata": {},
   "outputs": [
    {
     "data": {
      "image/png": "[encoded data removed]",
      "text/plain": [
       "<Figure size 1200x600 with 1 Axes>"
      ]
     },
     "metadata": {},
     "output_type": "display_data"
    }
   ],
   "source": [
    "# Returns Distribution\n",
    "plt.figure(figsize=(12, 6))\n",
    "plt.hist(range_returns, bins=50, density=True)\n",
    "plt.axvline(annualized_return_compound, color='black', linestyle='dashed', \n",
    "            linewidth=2, label='Annualized Return')\n",
    "plt.axvline(-VaR, color='red', linestyle='dashed', \n",
    "            linewidth=2, label=f'VaR ({CONFIDENCE_LEVEL:.0%})')\n",
    "plt.xlabel(f'{ROLLING_WINDOW_DAYS}-Day Returns')\n",
    "plt.ylabel('Frequency')\n",
    "plt.title('Distribution of Portfolio Returns')\n",
    "plt.legend()\n",
    "plt.show()"
   ]
  }
 ],
 "metadata": {
  "kernelspec": {
   "display_name": "myenv",
   "language": "python",
   "name": "python3"
  },
  "language_info": {
   "codemirror_mode": {
    "name": "ipython",
    "version": 3
   },
   "file_extension": ".py",
   "mimetype": "text/x-python",
   "name": "python",
   "nbconvert_exporter": "python",
   "pygments_lexer": "ipython3",
   "version": "3.11.2"
  }
 },
 "nbformat": 4,
 "nbformat_minor": 2
}
