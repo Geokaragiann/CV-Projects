{
 "cells": [
  {
   "cell_type": "code",
   "execution_count": 69,
   "metadata": {},
   "outputs": [
    {
     "name": "stderr",
     "output_type": "stream",
     "text": [
      "[*********************100%%**********************]  3 of 3 completed\n"
     ]
    }
   ],
   "source": [
    "import yfinance as yf\n",
    "import pandas as pd\n",
    "import numpy as np\n",
    "from scipy import stats\n",
    "\n",
    "etfs = ['SPY', 'IDTL.L', '^IXIC']\n",
    "# etfs = ['SPY']\n",
    "\n",
    "returns = yf.download(etfs, end='2024-08-31')['Adj Close'].pct_change(fill_method = None).dropna()"
   ]
  },
  {
   "cell_type": "code",
   "execution_count": 70,
   "metadata": {},
   "outputs": [
    {
     "data": {
      "text/html": [
       "<div>\n",
       "<style scoped>\n",
       "    .dataframe tbody tr th:only-of-type {\n",
       "        vertical-align: middle;\n",
       "    }\n",
       "\n",
       "    .dataframe tbody tr th {\n",
       "        vertical-align: top;\n",
       "    }\n",
       "\n",
       "    .dataframe thead th {\n",
       "        text-align: right;\n",
       "    }\n",
       "</style>\n",
       "<table border=\"1\" class=\"dataframe\">\n",
       "  <thead>\n",
       "    <tr style=\"text-align: right;\">\n",
       "      <th>Ticker</th>\n",
       "      <th>IDTL.L</th>\n",
       "      <th>SPY</th>\n",
       "      <th>^IXIC</th>\n",
       "    </tr>\n",
       "    <tr>\n",
       "      <th>Date</th>\n",
       "      <th></th>\n",
       "      <th></th>\n",
       "      <th></th>\n",
       "    </tr>\n",
       "  </thead>\n",
       "  <tbody>\n",
       "    <tr>\n",
       "      <th>2015-01-22</th>\n",
       "      <td>0.000000</td>\n",
       "      <td>0.014870</td>\n",
       "      <td>0.017779</td>\n",
       "    </tr>\n",
       "    <tr>\n",
       "      <th>2015-01-23</th>\n",
       "      <td>0.001996</td>\n",
       "      <td>-0.005483</td>\n",
       "      <td>0.001575</td>\n",
       "    </tr>\n",
       "    <tr>\n",
       "      <th>2015-01-26</th>\n",
       "      <td>0.000000</td>\n",
       "      <td>0.002342</td>\n",
       "      <td>0.002917</td>\n",
       "    </tr>\n",
       "    <tr>\n",
       "      <th>2015-01-27</th>\n",
       "      <td>0.009960</td>\n",
       "      <td>-0.013191</td>\n",
       "      <td>-0.018915</td>\n",
       "    </tr>\n",
       "    <tr>\n",
       "      <th>2015-01-28</th>\n",
       "      <td>-0.000740</td>\n",
       "      <td>-0.012825</td>\n",
       "      <td>-0.009294</td>\n",
       "    </tr>\n",
       "  </tbody>\n",
       "</table>\n",
       "</div>"
      ],
      "text/plain": [
       "Ticker        IDTL.L       SPY     ^IXIC\n",
       "Date                                    \n",
       "2015-01-22  0.000000  0.014870  0.017779\n",
       "2015-01-23  0.001996 -0.005483  0.001575\n",
       "2015-01-26  0.000000  0.002342  0.002917\n",
       "2015-01-27  0.009960 -0.013191 -0.018915\n",
       "2015-01-28 -0.000740 -0.012825 -0.009294"
      ]
     },
     "execution_count": 70,
     "metadata": {},
     "output_type": "execute_result"
    }
   ],
   "source": [
    "returns.head()"
   ]
  },
  {
   "cell_type": "code",
   "execution_count": 71,
   "metadata": {},
   "outputs": [],
   "source": [
    "# Calculate cumulative return\n",
    "cumulative_return = (1 + returns).prod() - 1\n",
    "\n",
    "# Number of trading days in a year\n",
    "trading_days = 252\n",
    "\n",
    "# Calculate annualized return\n",
    "annualized_return = (1 + cumulative_return) ** (trading_days / len(returns)) - 1\n",
    "\n"
   ]
  },
  {
   "cell_type": "code",
   "execution_count": 72,
   "metadata": {},
   "outputs": [
    {
     "name": "stdout",
     "output_type": "stream",
     "text": [
      "Weighted Average Return: 1.40%\n"
     ]
    }
   ],
   "source": [
    "weights = pd.Series({\n",
    "    'SPY': 0.05,\n",
    "    'IDTL': 0.9,\n",
    "    '^IXIC': 0.05,\n",
    "})\n",
    "\n",
    "\n",
    "# Calculate the weighted average return\n",
    "weighted_average_return = (annualized_return * weights).sum()\n",
    "\n",
    "print(f'Weighted Average Return: {weighted_average_return:.2%}')"
   ]
  },
  {
   "cell_type": "code",
   "execution_count": 73,
   "metadata": {},
   "outputs": [
    {
     "name": "stdout",
     "output_type": "stream",
     "text": [
      "Portfolio Annualized Standard Deviation: 0.1706\n"
     ]
    }
   ],
   "source": [
    "# Calculate the covariance matrix\n",
    "cov_matrix = returns.cov()\n",
    "\n",
    "# Calculate the portfolio standard deviation\n",
    "std= np.sqrt(np.dot(weights.T, np.dot(cov_matrix, weights)))\n",
    "annual_std = std * np.sqrt(trading_days)\n",
    "\n",
    "print(f'Portfolio Annualized Standard Deviation: {annual_std:.4f}')\n"
   ]
  },
  {
   "cell_type": "code",
   "execution_count": 74,
   "metadata": {},
   "outputs": [
    {
     "name": "stdout",
     "output_type": "stream",
     "text": [
      "Probability that the portfolio will have returns over 6% (bootstrap): 53.22%\n"
     ]
    }
   ],
   "source": [
    "# Number of bootstrap samples\n",
    "n_samples = 100000\n",
    "\n",
    "# Simulate portfolio returns by randomly sampling from the historical data\n",
    "bootstrap_returns = np.random.choice(returns.mean(axis=1) * trading_days, n_samples, replace=True)\n",
    "\n",
    "# Calculate the probability of returns over the target return\n",
    "prob_over_target = np.mean(bootstrap_returns > 0.06)\n",
    "\n",
    "print(f'Probability that the portfolio will have returns over 6% (bootstrap): {prob_over_target:.2%}')\n",
    "\n",
    "\n"
   ]
  }
 ],
 "metadata": {
  "kernelspec": {
   "display_name": "myenv",
   "language": "python",
   "name": "python3"
  },
  "language_info": {
   "codemirror_mode": {
    "name": "ipython",
    "version": 3
   },
   "file_extension": ".py",
   "mimetype": "text/x-python",
   "name": "python",
   "nbconvert_exporter": "python",
   "pygments_lexer": "ipython3",
   "version": "3.11.2"
  }
 },
 "nbformat": 4,
 "nbformat_minor": 2
}
