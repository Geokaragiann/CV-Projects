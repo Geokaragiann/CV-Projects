{
 "cells": [
  {
   "cell_type": "code",
   "execution_count": 24,
   "metadata": {},
   "outputs": [
    {
     "name": "stderr",
     "output_type": "stream",
     "text": [
      "[*********************100%%**********************]  3 of 3 completed\n"
     ]
    }
   ],
   "source": [
    "import yfinance as yf\n",
    "import pandas as pd\n",
    "import numpy as np\n",
    "from scipy import stats\n",
    "import matplotlib.pyplot as plt\n",
    "import datetime as dt\n",
    "\n",
    "etfs = ['SPY', 'TLT', '^IXIC']\n",
    "years = 20\n",
    "endDate = dt.datetime.now()\n",
    "startDate = endDate - dt.timedelta(days=365*years)\n",
    "returns = yf.download(etfs, start=startDate, end=endDate)['Adj Close']"
   ]
  },
  {
   "cell_type": "code",
   "execution_count": 25,
   "metadata": {},
   "outputs": [
    {
     "name": "stdout",
     "output_type": "stream",
     "text": [
      "Ticker           SPY       TLT     ^IXIC\n",
      "Date                                    \n",
      "2004-11-30  0.000679 -0.004247 -0.004786\n",
      "2004-12-01  0.011302 -0.001560  0.019561\n",
      "2004-12-02  0.000839 -0.004056  0.002494\n",
      "2004-12-03 -0.000671  0.015443  0.002046\n",
      "2004-12-06 -0.000336  0.003425  0.001531\n",
      "...              ...       ...       ...\n",
      "2024-11-15 -0.012891 -0.002661 -0.022629\n",
      "2024-11-18  0.004089  0.001775  0.005961\n",
      "2024-11-19  0.003649  0.005085  0.010358\n",
      "2024-11-20  0.000339 -0.003202 -0.001124\n",
      "2024-11-21  0.005354 -0.000775  0.000331\n",
      "\n",
      "[5030 rows x 3 columns]\n"
     ]
    }
   ],
   "source": [
    "log_returns = np.log(returns / returns.shift(1))\n",
    "log_returns = log_returns.dropna()\n",
    "print(log_returns)"
   ]
  },
  {
   "cell_type": "code",
   "execution_count": 26,
   "metadata": {},
   "outputs": [
    {
     "name": "stdout",
     "output_type": "stream",
     "text": [
      "Annualized Weighted Return (with compounding, without inflation): 0.1371\n"
     ]
    }
   ],
   "source": [
    "weights = np.array([0.6,0.2,0.2])\n",
    "historical_returns = (log_returns * weights).sum(axis =1)\n",
    "\n",
    "# Calculate the average of the historical returns\n",
    "average_log_return = historical_returns.mean()\n",
    "\n",
    "# Annualize the log return (multiply by the number of trading days in a year)\n",
    "annualized_log_return = average_log_return * 365\n",
    "\n",
    "# Convert the annualized log return to an arithmetic return (since it's compounded)\n",
    "annualized_return = np.exp(annualized_log_return) - 1\n",
    "\n",
    "# Print the result\n",
    "print(f'Annualized Weighted Return (with compounding, without inflation): {annualized_return:.4f}')\n"
   ]
  },
  {
   "cell_type": "code",
   "execution_count": 27,
   "metadata": {},
   "outputs": [],
   "source": [
    "days = 365\n",
    "\n",
    "range_returns = historical_returns.rolling(window = days).sum()\n",
    "range_returns = range_returns.dropna()"
   ]
  },
  {
   "cell_type": "code",
   "execution_count": 28,
   "metadata": {},
   "outputs": [
    {
     "name": "stdout",
     "output_type": "stream",
     "text": [
      "Portfolio 365 days Standard Deviation: 0.1586\n"
     ]
    }
   ],
   "source": [
    "# Calculate the standard deviation of the log returns (historical_returns)\n",
    "returns_std = range_returns.std()\n",
    "\n",
    "print(f'Portfolio {days} days Standard Deviation: {returns_std:.4f}')\n"
   ]
  },
  {
   "cell_type": "code",
   "execution_count": 29,
   "metadata": {},
   "outputs": [
    {
     "name": "stdout",
     "output_type": "stream",
     "text": [
      "Portfolio Sharpe Ratio: 0.5875\n"
     ]
    }
   ],
   "source": [
    "\n",
    "# Calculate Sharpe Ratio (assuming risk-free rate of 0.0439 for example)\n",
    "risk_free_rate = 0.0439  # You could also fetch this dynamically\n",
    "sharpe_ratio = (annualized_return - risk_free_rate) / returns_std\n",
    "print(f'Portfolio Sharpe Ratio: {sharpe_ratio:.4f}')"
   ]
  },
  {
   "cell_type": "code",
   "execution_count": 30,
   "metadata": {},
   "outputs": [
    {
     "name": "stdout",
     "output_type": "stream",
     "text": [
      "Maximum Drawdown: -48.0410%\n"
     ]
    }
   ],
   "source": [
    "# ... after historical returns calculation ...\n",
    "\n",
    "def calculate_max_drawdown(returns):\n",
    "    cumulative = (1 + returns).cumprod()\n",
    "    rolling_max = cumulative.expanding().max()\n",
    "    drawdowns = cumulative / rolling_max - 1\n",
    "    return drawdowns.min()\n",
    "\n",
    "max_drawdown = calculate_max_drawdown(historical_returns)\n",
    "print(f'Maximum Drawdown: {max_drawdown:.4%}')\n"
   ]
  },
  {
   "cell_type": "code",
   "execution_count": 35,
   "metadata": {},
   "outputs": [
    {
     "name": "stdout",
     "output_type": "stream",
     "text": [
      "\n",
      "Diversification Analysis:\n",
      "Diversification Score: 4.02\n",
      "Interpretation:\n",
      "✓ Excellent diversification! Your assets have beneficial negative correlations.\n",
      "  This means they tend to move in opposite directions, reducing portfolio risk.\n"
     ]
    }
   ],
   "source": [
    "correlation_matrix = log_returns.corr()\n",
    "# ... after weights calculation ...\n",
    "\n",
    "def calculate_diversification_score(weights, correlation_matrix):\n",
    "    # Calculate concentration\n",
    "    concentration = np.sum(weights ** 2)\n",
    "    \n",
    "    # Calculate portfolio correlation\n",
    "    weighted_correlation = np.dot(np.dot(weights, correlation_matrix), weights)\n",
    "    \n",
    "    # Calculate diversification score (1 = poorly diversified, N = perfectly diversified)\n",
    "    div_score = 1 / (concentration * weighted_correlation)\n",
    "    \n",
    "    # Calculate maximum possible score (number of assets)\n",
    "    max_score = len(weights)\n",
    "    \n",
    "    # Calculate as a percentage of maximum possible diversification\n",
    "    div_percentage = (div_score / max_score) * 100\n",
    "    \n",
    "    return div_score, div_percentage\n",
    "\n",
    "div_score, div_percentage = calculate_diversification_score(weights, correlation_matrix)\n",
    "print(f\"\\nDiversification Analysis:\")\n",
    "print(f\"Diversification Score: {div_score:.2f}\")\n",
    "print(\"Interpretation:\")\n",
    "if div_score > len(weights):\n",
    "    print(\"✓ Excellent diversification! Your assets have beneficial negative correlations.\")\n",
    "    print(\"  This means they tend to move in opposite directions, reducing portfolio risk.\")\n",
    "elif div_score > len(weights) * 0.7:\n",
    "    print(\"✓ Good diversification. Your assets have low correlations with each other.\")\n",
    "else:\n",
    "    print(\"! Consider adding more diversification. Your assets may be too correlated.\")"
   ]
  },
  {
   "cell_type": "code",
   "execution_count": 32,
   "metadata": {},
   "outputs": [
    {
     "name": "stdout",
     "output_type": "stream",
     "text": [
      "VaR: There is a 5.00% chance that the portfolio loss will exceed 18.63% in 365 days.\n",
      "CVaR: If the loss exceeds the VaR, the average loss is 33.36% in 365 days.\n"
     ]
    }
   ],
   "source": [
    "confidence_interval = 0.95\n",
    "\n",
    "VaR = -np.percentile(range_returns, 100 - (confidence_interval * 100))\n",
    "cvar = -range_returns[range_returns <= -VaR].mean()\n",
    "\n",
    "# Output the results\n",
    "print(f\"VaR: There is a {(1-confidence_interval)*100:.2f}% chance that the portfolio loss will exceed {VaR*100:.2f}% in {days} days.\")\n",
    "print(f\"CVaR: If the loss exceeds the VaR, the average loss is {cvar*100:.2f}% in {days} days.\")"
   ]
  },
  {
   "cell_type": "code",
   "execution_count": 33,
   "metadata": {},
   "outputs": [
    {
     "data": {
      "image/png": "[encoded data removed]",
      "text/plain": [
       "<Figure size 640x480 with 1 Axes>"
      ]
     },
     "metadata": {},
     "output_type": "display_data"
    }
   ],
   "source": [
    "return_window = days\n",
    "range_returns = historical_returns.rolling(window=return_window).sum()\n",
    "range_returns = range_returns.dropna()\n",
    "portfolio_value = 100000\n",
    "range_returns_dollar = range_returns * portfolio_value\n",
    "\n",
    "plt.hist(range_returns_dollar.dropna(), bins=50, density=True)\n",
    "plt.xlabel(f'{return_window}-Day Portfolio Return (Dollar Value)')\n",
    "plt.ylabel('Frequency')\n",
    "plt.title(f'Distribution of Portfolio {return_window}-Day Returns (Dollar Value)')\n",
    "plt.axvline(-VaR*portfolio_value, color='r', linestyle='dashed', linewidth=2, label=f'VaR at {confidence_interval:.0%} confidence level')\n",
    "plt.legend()\n",
    "plt.show()"
   ]
  }
 ],
 "metadata": {
  "kernelspec": {
   "display_name": "myenv",
   "language": "python",
   "name": "python3"
  },
  "language_info": {
   "codemirror_mode": {
    "name": "ipython",
    "version": 3
   },
   "file_extension": ".py",
   "mimetype": "text/x-python",
   "name": "python",
   "nbconvert_exporter": "python",
   "pygments_lexer": "ipython3",
   "version": "3.11.2"
  }
 },
 "nbformat": 4,
 "nbformat_minor": 2
}
